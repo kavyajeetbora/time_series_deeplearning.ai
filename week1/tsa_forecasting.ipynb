{
  "nbformat": 4,
  "nbformat_minor": 0,
  "metadata": {
    "colab": {
      "name": "tsa_forecasting.ipynb",
      "provenance": [],
      "authorship_tag": "ABX9TyMHefsrgM0hqrGazAPPxY2s",
      "include_colab_link": true
    },
    "kernelspec": {
      "name": "python3",
      "display_name": "Python 3"
    }
  },
  "cells": [
    {
      "cell_type": "markdown",
      "metadata": {
        "id": "view-in-github",
        "colab_type": "text"
      },
      "source": [
        "<a href=\"https://colab.research.google.com/github/kavyajeetbora/time_series_deeplearning.ai/blob/main/week1/tsa_forecasting.ipynb\" target=\"_parent\"><img src=\"https://colab.research.google.com/assets/colab-badge.svg\" alt=\"Open In Colab\"/></a>"
      ]
    },
    {
      "cell_type": "code",
      "metadata": {
        "colab": {
          "base_uri": "https://localhost:8080/"
        },
        "id": "1Q-WhVit6JXg",
        "outputId": "fb5ba7a6-d4ed-4406-d19c-b749545f5750"
      },
      "source": [
        "import numpy as np\r\n",
        "import matplotlib.pyplot as plt\r\n",
        "import tensorflow as tf\r\n",
        "from tensorflow import keras\r\n",
        "print(tf.__version__)"
      ],
      "execution_count": 3,
      "outputs": [
        {
          "output_type": "stream",
          "text": [
            "2.4.1\n"
          ],
          "name": "stdout"
        }
      ]
    },
    {
      "cell_type": "code",
      "metadata": {
        "id": "pDImnsIm6qdQ"
      },
      "source": [
        "def plot_series(time,series,format=\"-\",start=0,end=None):\r\n",
        "    plt.plot(time[start:end],series[start:end],format)\r\n",
        "    plt.xlabel(\"Time\")\r\n",
        "    plt.ylabel(\"Value\")\r\n",
        "    plt.grid(True)\r\n",
        "\r\n",
        "def trend(time, slope=0):\r\n",
        "    return slope*time\r\n",
        "\r\n",
        "def seasonal_pattern(season_time):\r\n",
        "    return np.cos(season_time * 2 * np.pi)"
      ],
      "execution_count": 4,
      "outputs": []
    },
    {
      "cell_type": "code",
      "metadata": {
        "colab": {
          "base_uri": "https://localhost:8080/",
          "height": 265
        },
        "id": "hz6c-ePS9ahe",
        "outputId": "6ec3fd6b-eead-4e7a-d208-fdd9543e8ded"
      },
      "source": [
        "time = np.arange(0,1,0.01)\r\n",
        "plt.plot(seasonal_pattern(time))\r\n",
        "plt.show()"
      ],
      "execution_count": 12,
      "outputs": [
        {
          "output_type": "display_data",
          "data": {
            "image/png": "[encoded data removed]",
            "text/plain": [
              "<Figure size 432x288 with 1 Axes>"
            ]
          },
          "metadata": {
            "tags": [],
            "needs_background": "light"
          }
        }
      ]
    },
    {
      "cell_type": "code",
      "metadata": {
        "id": "J6RQsx0lAKjd"
      },
      "source": [
        ""
      ],
      "execution_count": null,
      "outputs": []
    }
  ]
}